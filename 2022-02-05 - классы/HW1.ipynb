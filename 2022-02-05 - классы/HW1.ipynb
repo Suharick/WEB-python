{
 "cells": [
  {
   "cell_type": "code",
   "execution_count": 1,
   "id": "martial-sunset",
   "metadata": {},
   "outputs": [],
   "source": [
    "import random"
   ]
  },
  {
   "cell_type": "code",
   "execution_count": 14,
   "id": "moving-fundamentals",
   "metadata": {},
   "outputs": [],
   "source": [
    "class Voin():\n",
    "    def __init__(self, name):\n",
    "        self.name = name\n",
    "        self.health = random.randint(100, 150)\n",
    "        self.power = random.randint(20, 30)\n",
    "        print('Воин создан')\n",
    "        \n",
    "    def taking_damage(self, attack_power):\n",
    "        self.health -= attack_power\n",
    "        if self.health > 0:\n",
    "            print('%s получил %d единиц урона. Осталось %d единиц здоровья'%(self.name, attack_power, self.health))\n",
    "        else:\n",
    "            print('%s получил %d единиц урона и погиб'%(self.name, attack_power))\n",
    "            \n",
    "    def attack(self):\n",
    "        return self.power\n",
    "    \n",
    "    def get_health(self):\n",
    "        return self.health"
   ]
  },
  {
   "cell_type": "code",
   "execution_count": 15,
   "id": "available-crossing",
   "metadata": {},
   "outputs": [],
   "source": [
    "class Voin_with_shield(Voin):\n",
    "    def __init__(self, name):\n",
    "        self.name = name\n",
    "        self.health = random.randint(100, 150)\n",
    "        self.power = random.randint(15, 25)\n",
    "        self.protection = random.randint(5, 10)\n",
    "        print('Воин со щитом создан')\n",
    "\n",
    "    def taking_damage(self, attack_power):\n",
    "        if attack_power > self.protection:\n",
    "            attack = attack_power - self.protection\n",
    "        else:\n",
    "            attack = 0\n",
    "            \n",
    "        self.health -= attack\n",
    "        if self.health > 0:\n",
    "            print('%s получил %d единиц урона. Осталось %d единиц здоровья'%(self.name, attack, self.health))\n",
    "        else:\n",
    "            print('%s получил %d единиц урона и погиб'%(self.name, attack))"
   ]
  },
  {
   "cell_type": "code",
   "execution_count": 16,
   "id": "happy-example",
   "metadata": {},
   "outputs": [],
   "source": [
    "class Voin_expert(Voin):\n",
    "    def __init__(self, name):\n",
    "        self.name = name\n",
    "        self.health = random.randint(100, 200)\n",
    "        self.start_health = self.health\n",
    "        self.power = random.randint(20, 30)\n",
    "        print('Воин-эксперт создан')\n",
    "        \n",
    "    def taking_damage(self, attack_power):\n",
    "        if self.health < self.start_health //2:\n",
    "            attack = attack_power * 1.2\n",
    "        else:\n",
    "            attack = attack_power\n",
    "\n",
    "        self.health -= attack\n",
    "        if self.health > 0:\n",
    "            print('%s получил %d единиц урона. Осталось %d единиц здоровья'%(self.name, attack, self.health))\n",
    "        else:\n",
    "            print('%s получил %d единиц урона и погиб'%(self.name, attack))\n",
    "        \n",
    "    def attack(self):\n",
    "        if self.health < self.start_health //2:\n",
    "            return 2*self.power\n",
    "        else:\n",
    "            return self.power"
   ]
  },
  {
   "cell_type": "code",
   "execution_count": 45,
   "id": "starting-ministry",
   "metadata": {},
   "outputs": [],
   "source": [
    "class Army():\n",
    "    def __init__(self, all_voin: list):\n",
    "        self.all_voin = all_voin\n",
    "        \n",
    "    @staticmethod\n",
    "    def battle(arm1, arm2): \n",
    "        start_arm = True # 1 - True; 2 - False\n",
    "        while arm1 != [] and arm2 != []:\n",
    "            # 1. Выбирается первый воин из армии 1, выбирается первый воин из армии 2 \n",
    "            v1 = arm1[0] if start_arm else arm2[0]\n",
    "            v2 = arm2[0] if start_arm else arm1[0]\n",
    "            \n",
    "            # 2. Воин из армии 1 наносит повреждения воину из армии 2, \n",
    "            #    после этого воин из армии 2 наносит повреждения воину из армии 1.\n",
    "            attack_power = v1.attack()\n",
    "            v2.taking_damage(attack_power)\n",
    "            if v2.get_health() > 0:\n",
    "                attack_power = v2.attack()\n",
    "                v1.taking_damage(attack_power)\n",
    "                \n",
    "            # 3. Из армий удаляются воины со значением здоровья меньше нуля.\n",
    "            if v1.get_health() <= 0:\n",
    "                print(v1.name, 'is dead')\n",
    "                arm1 = arm1[1:]\n",
    "            if v2.get_health() <= 0:\n",
    "                print(v2.name, 'is dead')\n",
    "                arm2 = arm2[1:]\n",
    "                \n",
    "            # 4. Далее армии меняются местами и шаги 1-3 повторяются.\n",
    "            start_arm = !start_arm\n",
    "        \n",
    "        if arm1 == []:\n",
    "            return 'Победила армия 2'\n",
    "        else:\n",
    "            return 'Победила армия 1'"
   ]
  },
  {
   "cell_type": "code",
   "execution_count": 46,
   "id": "personal-carrier",
   "metadata": {},
   "outputs": [
    {
     "name": "stdout",
     "output_type": "stream",
     "text": [
      "Воин создан\n",
      "Воин создан\n",
      "Воин со щитом создан\n",
      "Воин-эксперт создан\n"
     ]
    }
   ],
   "source": [
    "v1_1 = Voin('Ваня') \n",
    "v1_2 = Voin('Коля') \n",
    "v1_3 = Voin_with_shield('Петя')\n",
    "v1_4 = Voin_expert('Игорь')"
   ]
  },
  {
   "cell_type": "code",
   "execution_count": 47,
   "id": "defined-amsterdam",
   "metadata": {},
   "outputs": [
    {
     "name": "stdout",
     "output_type": "stream",
     "text": [
      "Воин со щитом создан\n",
      "Воин со щитом создан\n",
      "Воин-эксперт создан\n"
     ]
    }
   ],
   "source": [
    "v2_1 = Voin_with_shield('Том') \n",
    "v2_2 = Voin_with_shield('Джек')\n",
    "v2_3 = Voin_expert('Роб')"
   ]
  },
  {
   "cell_type": "code",
   "execution_count": 48,
   "id": "continent-invalid",
   "metadata": {},
   "outputs": [],
   "source": [
    "army1 = Army([v1_1, v1_2, v1_3, v1_4])\n",
    "army2 = Army([v2_1, v2_2, v2_3])"
   ]
  },
  {
   "cell_type": "code",
   "execution_count": 49,
   "id": "beautiful-bundle",
   "metadata": {},
   "outputs": [
    {
     "name": "stdout",
     "output_type": "stream",
     "text": [
      "Том получил 16 единиц урона. Осталось 129 единиц здоровья\n",
      "Ваня получил 15 единиц урона. Осталось 112 единиц здоровья\n",
      "Том получил 16 единиц урона. Осталось 113 единиц здоровья\n",
      "Ваня получил 15 единиц урона. Осталось 97 единиц здоровья\n",
      "Том получил 16 единиц урона. Осталось 97 единиц здоровья\n",
      "Ваня получил 15 единиц урона. Осталось 82 единиц здоровья\n",
      "Том получил 16 единиц урона. Осталось 81 единиц здоровья\n",
      "Ваня получил 15 единиц урона. Осталось 67 единиц здоровья\n",
      "Том получил 16 единиц урона. Осталось 65 единиц здоровья\n",
      "Ваня получил 15 единиц урона. Осталось 52 единиц здоровья\n",
      "Том получил 16 единиц урона. Осталось 49 единиц здоровья\n",
      "Ваня получил 15 единиц урона. Осталось 37 единиц здоровья\n",
      "Том получил 16 единиц урона. Осталось 33 единиц здоровья\n",
      "Ваня получил 15 единиц урона. Осталось 22 единиц здоровья\n",
      "Том получил 16 единиц урона. Осталось 17 единиц здоровья\n",
      "Ваня получил 15 единиц урона. Осталось 7 единиц здоровья\n",
      "Том получил 16 единиц урона. Осталось 1 единиц здоровья\n",
      "Ваня получил 15 единиц урона и погиб\n",
      "Ваня is dead\n",
      "Том получил 15 единиц урона и погиб\n",
      "Том is dead\n",
      "Джек получил 13 единиц урона. Осталось 133 единиц здоровья\n",
      "Коля получил 25 единиц урона. Осталось 119 единиц здоровья\n",
      "Джек получил 13 единиц урона. Осталось 120 единиц здоровья\n",
      "Коля получил 25 единиц урона. Осталось 94 единиц здоровья\n",
      "Джек получил 13 единиц урона. Осталось 107 единиц здоровья\n",
      "Коля получил 25 единиц урона. Осталось 69 единиц здоровья\n",
      "Джек получил 13 единиц урона. Осталось 94 единиц здоровья\n",
      "Коля получил 25 единиц урона. Осталось 44 единиц здоровья\n",
      "Джек получил 13 единиц урона. Осталось 81 единиц здоровья\n",
      "Коля получил 25 единиц урона. Осталось 19 единиц здоровья\n",
      "Джек получил 13 единиц урона. Осталось 68 единиц здоровья\n",
      "Коля получил 25 единиц урона и погиб\n",
      "Коля is dead\n",
      "Джек получил 7 единиц урона. Осталось 61 единиц здоровья\n",
      "Петя получил 16 единиц урона. Осталось 103 единиц здоровья\n",
      "Джек получил 7 единиц урона. Осталось 54 единиц здоровья\n",
      "Петя получил 16 единиц урона. Осталось 87 единиц здоровья\n",
      "Джек получил 7 единиц урона. Осталось 47 единиц здоровья\n",
      "Петя получил 16 единиц урона. Осталось 71 единиц здоровья\n",
      "Джек получил 7 единиц урона. Осталось 40 единиц здоровья\n",
      "Петя получил 16 единиц урона. Осталось 55 единиц здоровья\n",
      "Джек получил 7 единиц урона. Осталось 33 единиц здоровья\n",
      "Петя получил 16 единиц урона. Осталось 39 единиц здоровья\n",
      "Джек получил 7 единиц урона. Осталось 26 единиц здоровья\n",
      "Петя получил 16 единиц урона. Осталось 23 единиц здоровья\n",
      "Джек получил 7 единиц урона. Осталось 19 единиц здоровья\n",
      "Петя получил 16 единиц урона. Осталось 7 единиц здоровья\n",
      "Джек получил 7 единиц урона. Осталось 12 единиц здоровья\n",
      "Петя получил 16 единиц урона и погиб\n",
      "Петя is dead\n",
      "Джек получил 12 единиц урона и погиб\n",
      "Джек is dead\n",
      "Роб получил 22 единиц урона. Осталось 124 единиц здоровья\n",
      "Игорь получил 24 единиц урона. Осталось 78 единиц здоровья\n",
      "Роб получил 22 единиц урона. Осталось 102 единиц здоровья\n",
      "Игорь получил 24 единиц урона. Осталось 54 единиц здоровья\n",
      "Роб получил 22 единиц урона. Осталось 80 единиц здоровья\n",
      "Игорь получил 24 единиц урона. Осталось 30 единиц здоровья\n",
      "Роб получил 44 единиц урона. Осталось 36 единиц здоровья\n",
      "Игорь получил 57 единиц урона и погиб\n",
      "Игорь is dead\n"
     ]
    },
    {
     "data": {
      "text/plain": [
       "'Победила армия 2'"
      ]
     },
     "execution_count": 49,
     "metadata": {},
     "output_type": "execute_result"
    }
   ],
   "source": [
    "army1.battle(army1.all_voin, army2.all_voin)"
   ]
  },
  {
   "cell_type": "code",
   "execution_count": null,
   "id": "czech-quantity",
   "metadata": {},
   "outputs": [],
   "source": []
  }
 ],
 "metadata": {
  "kernelspec": {
   "display_name": "Python 3",
   "language": "python",
   "name": "python3"
  },
  "language_info": {
   "codemirror_mode": {
    "name": "ipython",
    "version": 3
   },
   "file_extension": ".py",
   "mimetype": "text/x-python",
   "name": "python",
   "nbconvert_exporter": "python",
   "pygments_lexer": "ipython3",
   "version": "3.9.2"
  }
 },
 "nbformat": 4,
 "nbformat_minor": 5
}
