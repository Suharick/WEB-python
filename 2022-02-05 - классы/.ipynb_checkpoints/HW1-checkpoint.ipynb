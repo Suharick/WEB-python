{
 "cells": [
  {
   "cell_type": "code",
   "execution_count": 1,
   "id": "rotary-mercy",
   "metadata": {},
   "outputs": [],
   "source": [
    "import random"
   ]
  },
  {
   "cell_type": "code",
   "execution_count": 31,
   "id": "generous-quarter",
   "metadata": {},
   "outputs": [],
   "source": [
    "class Voin():\n",
    "    def __init__(self, name):\n",
    "        self.name = name\n",
    "        self.health = random.randint(100, 150)\n",
    "        self.power = random.randint(20, 30)\n",
    "        print('Герой создан')\n",
    "        \n",
    "    def taking_damage(self, attack_power):\n",
    "        self.health -= attack_power\n",
    "        if self.health > 0:\n",
    "            print('%s получил %d единиц урона. Осталось %d единиц здоровья'%(self.name, attack_power, self.health))\n",
    "        else:\n",
    "            print('%s получил %d единиц урона и погиб'%(self.name, attack_power))\n",
    "            \n",
    "    def attack(self):\n",
    "        return self.power\n",
    "    \n",
    "    def get_health(self):\n",
    "        return self.health"
   ]
  },
  {
   "cell_type": "code",
   "execution_count": 32,
   "id": "virtual-might",
   "metadata": {},
   "outputs": [],
   "source": [
    "class Voin_with_shield(Voin):\n",
    "    def __init__(self):\n",
    "        self.power = random.randint(15, 25)\n",
    "        self.protection = random.randint(5, 10)\n",
    "        \n",
    "    def taking_damage(self, attack_power):\n",
    "        if attack_power > self.protection:\n",
    "            attack = attack_power - self.protection\n",
    "        else:\n",
    "            attack = 0\n",
    "            \n",
    "        self.health -= attack\n",
    "        if self.health > 0:\n",
    "            print('%s получил %d единиц урона. Осталось %d единиц здоровья'%(self.name, attack, self.health))\n",
    "        else:\n",
    "            print('%s получил %d единиц урона и погиб'%(self.name, attack))"
   ]
  },
  {
   "cell_type": "code",
   "execution_count": 33,
   "id": "synthetic-engagement",
   "metadata": {},
   "outputs": [],
   "source": [
    "class Voin_expert(Voin):\n",
    "    def __init__(self):\n",
    "        self.health = random.randint(100, 200)\n",
    "        self.start_health = self.health\n",
    "        \n",
    "    def taking_damage(self, attack_power):\n",
    "        if self.health < self.start_health //2:\n",
    "            attack = attack_power * 1.2\n",
    "        else:\n",
    "            attack = attack_power\n",
    "\n",
    "        self.health -= attack\n",
    "        if self.health > 0:\n",
    "            print('%s получил %d единиц урона. Осталось %d единиц здоровья'%(self.name, attack, self.health))\n",
    "        else:\n",
    "            print('%s получил %d единиц урона и погиб'%(self.name, attack))\n",
    "        \n",
    "    def attack(self):\n",
    "        if self.health < self.start_health //2:\n",
    "            return 2*self.power\n",
    "        else:\n",
    "            return self.power"
   ]
  },
  {
   "cell_type": "code",
   "execution_count": 34,
   "id": "norman-cheat",
   "metadata": {},
   "outputs": [],
   "source": [
    "class Army():\n",
    "    def __init__(self, all_voin: list):\n",
    "        self.all_voin = all_voin\n",
    "        \n",
    "    @staticmethod\n",
    "    def battle(a1, a2): \n",
    "        arm1, arm2 = a1, a2\n",
    "        start_arm = 1\n",
    "        while arm1 != [] or arm2 != []:\n",
    "            # 1. Выбирается первый воин из армии 1, выбирается первый воин из армии \n",
    "            v1 = arm1[0] if start_arm == 1 else arm2[0]\n",
    "            v2 = arm2[0] if start_arm == 1 else arm1[0]\n",
    "            \n",
    "            # 2. Воин из армии 1 наносит повреждения воину из армии 2, \n",
    "            #    после этого воин из армии 2 наносит повреждения воину из армии 1.\n",
    "            attack_power = v1.attack()\n",
    "            v2.taking_damage(attack_power)\n",
    "            if v2.get_health() > 0:\n",
    "                attack_power = v2.attack()\n",
    "                v1.taking_damage(attack_power)\n",
    "                \n",
    "            # 3. Из армий удаляются воины со значением здоровья меньше нуля.\n",
    "            if v1.get_health() <= 0:\n",
    "                arm1 = arm1[1:]\n",
    "            if v2.get_health() <= 0:\n",
    "                arm2 = arm2[1:]\n",
    "                \n",
    "            # 4. Далее армии меняются местами и шаги 1-3 повторяются.\n",
    "            start_arm = (start_arm+1)%2\n",
    "            \n",
    "        return arm1, arm2"
   ]
  },
  {
   "cell_type": "code",
   "execution_count": 35,
   "id": "broken-jesus",
   "metadata": {},
   "outputs": [
    {
     "name": "stdout",
     "output_type": "stream",
     "text": [
      "Герой создан\n"
     ]
    },
    {
     "ename": "TypeError",
     "evalue": "__init__() takes 1 positional argument but 2 were given",
     "output_type": "error",
     "traceback": [
      "\u001b[1;31m---------------------------------------------------------------------------\u001b[0m",
      "\u001b[1;31mTypeError\u001b[0m                                 Traceback (most recent call last)",
      "\u001b[1;32m<ipython-input-35-75a58a78b6fb>\u001b[0m in \u001b[0;36m<module>\u001b[1;34m\u001b[0m\n\u001b[0;32m      1\u001b[0m \u001b[0mv1_1\u001b[0m \u001b[1;33m=\u001b[0m \u001b[0mVoin\u001b[0m\u001b[1;33m(\u001b[0m\u001b[1;34m'Ваня'\u001b[0m\u001b[1;33m)\u001b[0m\u001b[1;33m\u001b[0m\u001b[1;33m\u001b[0m\u001b[0m\n\u001b[1;32m----> 2\u001b[1;33m \u001b[0mv1_2\u001b[0m \u001b[1;33m=\u001b[0m \u001b[0mVoin_with_shield\u001b[0m\u001b[1;33m(\u001b[0m\u001b[1;34m'Петя'\u001b[0m\u001b[1;33m)\u001b[0m\u001b[1;33m\u001b[0m\u001b[1;33m\u001b[0m\u001b[0m\n\u001b[0m\u001b[0;32m      3\u001b[0m \u001b[0mv1_3\u001b[0m \u001b[1;33m=\u001b[0m \u001b[0mVoin_expert\u001b[0m\u001b[1;33m(\u001b[0m\u001b[1;34m'Игорь'\u001b[0m\u001b[1;33m)\u001b[0m\u001b[1;33m\u001b[0m\u001b[1;33m\u001b[0m\u001b[0m\n",
      "\u001b[1;31mTypeError\u001b[0m: __init__() takes 1 positional argument but 2 were given"
     ]
    }
   ],
   "source": [
    "v1_1 = Voin('Ваня') \n",
    "v1_2 = Voin_with_shield('Петя')\n",
    "v1_3 = Voin_expert('Игорь')"
   ]
  },
  {
   "cell_type": "code",
   "execution_count": null,
   "id": "instrumental-appendix",
   "metadata": {},
   "outputs": [],
   "source": []
  }
 ],
 "metadata": {
  "kernelspec": {
   "display_name": "Python 3",
   "language": "python",
   "name": "python3"
  },
  "language_info": {
   "codemirror_mode": {
    "name": "ipython",
    "version": 3
   },
   "file_extension": ".py",
   "mimetype": "text/x-python",
   "name": "python",
   "nbconvert_exporter": "python",
   "pygments_lexer": "ipython3",
   "version": "3.9.2"
  }
 },
 "nbformat": 4,
 "nbformat_minor": 5
}
