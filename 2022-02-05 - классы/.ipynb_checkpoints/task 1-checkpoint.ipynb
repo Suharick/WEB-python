{
 "cells": [
  {
   "cell_type": "markdown",
   "id": "variable-import",
   "metadata": {},
   "source": [
    "# Упражнение 1"
   ]
  },
  {
   "cell_type": "markdown",
   "id": "strategic-graph",
   "metadata": {},
   "source": [
    "### Напишите код, описывающий класс Animal, добавьте атрибуты имени животного и его сытости, метод eat - увеличивающий “сытость” животного, методы get_name и set_name, конструктор класса Animal выводящий сообщение при создании объекта. Создайте несколько объектов и вызовите методы set_name/get_name/eat."
   ]
  },
  {
   "cell_type": "code",
   "execution_count": 3,
   "id": "thorough-float",
   "metadata": {},
   "outputs": [],
   "source": [
    "class Animal():\n",
    "    def __init__(self, name, satiety):\n",
    "        self.name = name\n",
    "        self.satiety = satiety\n",
    "        print('Зверь создан.')\n",
    "        \n",
    "    def get_name(self):\n",
    "        return self.name\n",
    "    \n",
    "    def set_name(self, name):\n",
    "        self.name = name\n",
    "        return 'Имя успешно задано. Чтобы это проверить, воспользуйтесь методом get_name.'\n",
    "    \n",
    "    def eat(self):\n",
    "        self.satiety += 5\n",
    "        print('Текущая сытость: ', self.satiety)"
   ]
  },
  {
   "cell_type": "code",
   "execution_count": 4,
   "id": "ignored-feelings",
   "metadata": {},
   "outputs": [
    {
     "name": "stdout",
     "output_type": "stream",
     "text": [
      "Зверь создан.\n"
     ]
    }
   ],
   "source": [
    "dog = Animal('Шарик', 15)"
   ]
  },
  {
   "cell_type": "code",
   "execution_count": 5,
   "id": "specialized-first",
   "metadata": {},
   "outputs": [
    {
     "data": {
      "text/plain": [
       "'Шарик'"
      ]
     },
     "execution_count": 5,
     "metadata": {},
     "output_type": "execute_result"
    }
   ],
   "source": [
    "dog.get_name()"
   ]
  },
  {
   "cell_type": "code",
   "execution_count": 6,
   "id": "opened-spread",
   "metadata": {},
   "outputs": [
    {
     "data": {
      "text/plain": [
       "'Имя успешно задано. Чтобы это проверить, воспользуйтесь методом get_name.'"
      ]
     },
     "execution_count": 6,
     "metadata": {},
     "output_type": "execute_result"
    }
   ],
   "source": [
    "dog.set_name('Бобик')"
   ]
  },
  {
   "cell_type": "code",
   "execution_count": 7,
   "id": "preliminary-logic",
   "metadata": {},
   "outputs": [
    {
     "data": {
      "text/plain": [
       "'Бобик'"
      ]
     },
     "execution_count": 7,
     "metadata": {},
     "output_type": "execute_result"
    }
   ],
   "source": [
    "dog.get_name()"
   ]
  },
  {
   "cell_type": "code",
   "execution_count": 8,
   "id": "signal-pennsylvania",
   "metadata": {},
   "outputs": [
    {
     "name": "stdout",
     "output_type": "stream",
     "text": [
      "Текущая сытость:  20\n"
     ]
    }
   ],
   "source": [
    "dog.eat()"
   ]
  },
  {
   "cell_type": "code",
   "execution_count": 9,
   "id": "loose-blend",
   "metadata": {},
   "outputs": [
    {
     "name": "stdout",
     "output_type": "stream",
     "text": [
      "Зверь создан.\n"
     ]
    }
   ],
   "source": [
    "cat = Animal('Барсик', 25)"
   ]
  },
  {
   "cell_type": "markdown",
   "id": "organic-construction",
   "metadata": {},
   "source": [
    "# Упражнение 2"
   ]
  },
  {
   "cell_type": "markdown",
   "id": "prepared-orchestra",
   "metadata": {},
   "source": [
    "### Создайте 2 класса разных животных, отнаследованных от класса Animal. Определите метод make_noise, который будет уменьшать сытость животного и в зависимости от сытости выводить разное сообщение, специфичное для данного животного."
   ]
  },
  {
   "cell_type": "code",
   "execution_count": 10,
   "id": "generic-prime",
   "metadata": {},
   "outputs": [],
   "source": [
    "class Bear(Animal):\n",
    "    def make_noise(self):\n",
    "        self.satiety -= 10\n",
    "        if self.satiety <= 0:\n",
    "            letter = 'Спячка'\n",
    "        else:\n",
    "            letter = 'Активность'\n",
    "        return letter"
   ]
  },
  {
   "cell_type": "code",
   "execution_count": 12,
   "id": "trained-memory",
   "metadata": {},
   "outputs": [
    {
     "name": "stdout",
     "output_type": "stream",
     "text": [
      "Зверь создан.\n"
     ]
    }
   ],
   "source": [
    "bear = Bear('Балу', 15)"
   ]
  },
  {
   "cell_type": "code",
   "execution_count": 13,
   "id": "typical-algeria",
   "metadata": {},
   "outputs": [
    {
     "data": {
      "text/plain": [
       "'Балу'"
      ]
     },
     "execution_count": 13,
     "metadata": {},
     "output_type": "execute_result"
    }
   ],
   "source": [
    "bear.get_name()"
   ]
  },
  {
   "cell_type": "code",
   "execution_count": 14,
   "id": "sunset-hazard",
   "metadata": {},
   "outputs": [
    {
     "name": "stdout",
     "output_type": "stream",
     "text": [
      "Текущая сытость:  20\n"
     ]
    }
   ],
   "source": [
    "bear.eat()"
   ]
  },
  {
   "cell_type": "code",
   "execution_count": 15,
   "id": "historical-istanbul",
   "metadata": {},
   "outputs": [
    {
     "data": {
      "text/plain": [
       "'Активность'"
      ]
     },
     "execution_count": 15,
     "metadata": {},
     "output_type": "execute_result"
    }
   ],
   "source": [
    "bear.make_noise()"
   ]
  },
  {
   "cell_type": "code",
   "execution_count": 16,
   "id": "fabulous-throw",
   "metadata": {
    "scrolled": true
   },
   "outputs": [
    {
     "data": {
      "text/plain": [
       "'Спячка'"
      ]
     },
     "execution_count": 16,
     "metadata": {},
     "output_type": "execute_result"
    }
   ],
   "source": [
    "bear.make_noise()"
   ]
  },
  {
   "cell_type": "code",
   "execution_count": 17,
   "id": "treated-triumph",
   "metadata": {},
   "outputs": [],
   "source": [
    "class Fish(Animal):\n",
    "    def make_noise(self):\n",
    "        self.satiety -= 2\n",
    "        if self.satiety <= 0:\n",
    "            letter = 'Лежит на поверхности брюхом кверху'\n",
    "        else:\n",
    "            letter = 'Плавает'\n",
    "        return letter"
   ]
  },
  {
   "cell_type": "code",
   "execution_count": 24,
   "id": "creative-appearance",
   "metadata": {
    "scrolled": true
   },
   "outputs": [
    {
     "name": "stdout",
     "output_type": "stream",
     "text": [
      "Зверь создан.\n"
     ]
    }
   ],
   "source": [
    "fish = Fish('Немо', 3)"
   ]
  },
  {
   "cell_type": "code",
   "execution_count": 25,
   "id": "widespread-database",
   "metadata": {},
   "outputs": [
    {
     "data": {
      "text/plain": [
       "'Немо'"
      ]
     },
     "execution_count": 25,
     "metadata": {},
     "output_type": "execute_result"
    }
   ],
   "source": [
    "fish.get_name()"
   ]
  },
  {
   "cell_type": "code",
   "execution_count": 26,
   "id": "progressive-portfolio",
   "metadata": {},
   "outputs": [
    {
     "name": "stdout",
     "output_type": "stream",
     "text": [
      "Текущая сытость:  8\n"
     ]
    }
   ],
   "source": [
    "fish.eat()"
   ]
  },
  {
   "cell_type": "code",
   "execution_count": 27,
   "id": "behavioral-companion",
   "metadata": {},
   "outputs": [
    {
     "data": {
      "text/plain": [
       "'Плавает'"
      ]
     },
     "execution_count": 27,
     "metadata": {},
     "output_type": "execute_result"
    }
   ],
   "source": [
    "fish.make_noise()\n",
    "fish.make_noise()\n",
    "fish.make_noise()"
   ]
  },
  {
   "cell_type": "code",
   "execution_count": 28,
   "id": "residential-anthropology",
   "metadata": {
    "scrolled": false
   },
   "outputs": [
    {
     "data": {
      "text/plain": [
       "'Лежит на поверхности брюхом кверху'"
      ]
     },
     "execution_count": 28,
     "metadata": {},
     "output_type": "execute_result"
    }
   ],
   "source": [
    "fish.make_noise()"
   ]
  },
  {
   "cell_type": "markdown",
   "id": "committed-interval",
   "metadata": {},
   "source": [
    "# Упражнение 3"
   ]
  },
  {
   "cell_type": "markdown",
   "id": "powered-delivery",
   "metadata": {},
   "source": [
    "### Сделать класс, определяющий прямоугольный земельный участок. Реализовать операции сравнения участков по площади. Определить метод, проверяющий, можно ли сложить/вычесть 2 участка (одна из сторон совпадает по длине). Реализовать методы сложения/вычитания участков."
   ]
  },
  {
   "cell_type": "code",
   "execution_count": 57,
   "id": "superior-karen",
   "metadata": {},
   "outputs": [],
   "source": [
    "class Stead():\n",
    "    def __init__(self, length, width):\n",
    "        self.length = length\n",
    "        self.width = width\n",
    "        print('Участок создан')\n",
    "        \n",
    "    def space(self, another_length, another_width):\n",
    "        if (self.length * self.width) == (another_length * another_width):\n",
    "            letter = 'Участки земли ИДЕНТИЧНЫ по площади'\n",
    "        else:\n",
    "            letter = 'Участки земли РАЗЛИЧНЫ по площади'\n",
    "        return letter\n",
    "    \n",
    "    def same_side(self, another_length, another_width):\n",
    "        if self.length == another_length or self.width == another_width:\n",
    "            self.res = True\n",
    "        else:\n",
    "            self.res = False\n",
    "        return self.res\n",
    "        \n",
    "    def minus(self, another_length, another_width):\n",
    "        condition = self.same_side(another_length, another_width)\n",
    "        if condition:\n",
    "            if self.length == another_length:\n",
    "                itog = abs(self.width - another_width)\n",
    "                print('Итоговый участок с длиной и шириной: ')\n",
    "                return self.length, itog\n",
    "            else:\n",
    "                itog = abs(self.length - another_length)\n",
    "                print('Итоговый участок с длиной и шириной: ')\n",
    "                return itog, self.width\n",
    "        else:\n",
    "            return 'Условие вычитания не выполнено'\n",
    "    \n",
    "    def plus(self, another_length, another_width):\n",
    "        condition = self.same_side(another_length, another_width)\n",
    "        if condition:\n",
    "            if self.length == another_length:\n",
    "                itog = self.width + another_width\n",
    "                print('Итоговый участок с длиной и шириной: ')\n",
    "                return self.length, itog\n",
    "            else:\n",
    "                itog = self.length + another_length\n",
    "                print('Итоговый участок с длиной и шириной: ')\n",
    "                return itog, self.width\n",
    "        else:\n",
    "            return 'Условие сложения не выполнено'"
   ]
  },
  {
   "cell_type": "code",
   "execution_count": 58,
   "id": "lesser-inspiration",
   "metadata": {},
   "outputs": [
    {
     "name": "stdout",
     "output_type": "stream",
     "text": [
      "Участок создан\n"
     ]
    }
   ],
   "source": [
    "farm = Stead(15, 10)"
   ]
  },
  {
   "cell_type": "code",
   "execution_count": 59,
   "id": "blond-adelaide",
   "metadata": {},
   "outputs": [
    {
     "data": {
      "text/plain": [
       "('Участки земли РАЗЛИЧНЫ по площади', 'Участки земли ИДЕНТИЧНЫ по площади')"
      ]
     },
     "execution_count": 59,
     "metadata": {},
     "output_type": "execute_result"
    }
   ],
   "source": [
    "farm.space(10, 10), farm.space(30, 5)"
   ]
  },
  {
   "cell_type": "code",
   "execution_count": 60,
   "id": "authentic-prescription",
   "metadata": {},
   "outputs": [
    {
     "data": {
      "text/plain": [
       "'Условие вычитания не выполнено'"
      ]
     },
     "execution_count": 60,
     "metadata": {},
     "output_type": "execute_result"
    }
   ],
   "source": [
    "farm.minus(10, 5)"
   ]
  },
  {
   "cell_type": "code",
   "execution_count": 61,
   "id": "mechanical-departure",
   "metadata": {},
   "outputs": [
    {
     "name": "stdout",
     "output_type": "stream",
     "text": [
      "Итоговый участок с длиной и шириной: \n"
     ]
    },
    {
     "data": {
      "text/plain": [
       "(15, 5)"
      ]
     },
     "execution_count": 61,
     "metadata": {},
     "output_type": "execute_result"
    }
   ],
   "source": [
    "farm.minus(15, 5)"
   ]
  },
  {
   "cell_type": "code",
   "execution_count": 62,
   "id": "charitable-ghana",
   "metadata": {},
   "outputs": [
    {
     "name": "stdout",
     "output_type": "stream",
     "text": [
      "Итоговый участок с длиной и шириной: \n"
     ]
    },
    {
     "data": {
      "text/plain": [
       "(15, 15)"
      ]
     },
     "execution_count": 62,
     "metadata": {},
     "output_type": "execute_result"
    }
   ],
   "source": [
    "farm.plus(15, 5)"
   ]
  },
  {
   "cell_type": "code",
   "execution_count": null,
   "id": "included-blast",
   "metadata": {},
   "outputs": [],
   "source": []
  }
 ],
 "metadata": {
  "kernelspec": {
   "display_name": "Python 3",
   "language": "python",
   "name": "python3"
  },
  "language_info": {
   "codemirror_mode": {
    "name": "ipython",
    "version": 3
   },
   "file_extension": ".py",
   "mimetype": "text/x-python",
   "name": "python",
   "nbconvert_exporter": "python",
   "pygments_lexer": "ipython3",
   "version": "3.9.2"
  }
 },
 "nbformat": 4,
 "nbformat_minor": 5
}
